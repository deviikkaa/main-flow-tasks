{
 "cells": [
  {
   "cell_type": "code",
   "execution_count": 2,
   "id": "65439b1e-cdc0-49f5-b30c-2ff4f84ae64f",
   "metadata": {},
   "outputs": [],
   "source": [
    "class TreeNode:\n",
    "    def __init__(self, val=0, left=None, right=None):\n",
    "        self.val = val\n",
    "        self.left = left\n",
    "        self.right = right\n",
    "\n",
    "def serialize(root):\n",
    "    def dfs(node):\n",
    "        if not node:\n",
    "            vals.append(\"#\")\n",
    "            return\n",
    "        vals.append(str(node.val))\n",
    "        dfs(node.left)\n",
    "        dfs(node.right)\n",
    "    vals = []\n",
    "    dfs(root)\n",
    "    return \",\".join(vals)\n",
    "\n",
    "def deserialize(data):\n",
    "    def dfs():\n",
    "        val = next(values)\n",
    "        if val == \"#\":\n",
    "            return None\n",
    "        node = TreeNode(int(val))\n",
    "        node.left = dfs()\n",
    "        node.right = dfs()\n",
    "        return node\n",
    "    values = iter(data.split(\",\"))\n",
    "    return dfs()\n"
   ]
  },
  {
   "cell_type": "code",
   "execution_count": 3,
   "id": "9018647f-4d46-4d12-8889-820c050c73e6",
   "metadata": {},
   "outputs": [
    {
     "name": "stdout",
     "output_type": "stream",
     "text": [
      "Serialized: 1,2,#,#,3,#,#\n",
      "Restored root value: 1\n"
     ]
    }
   ],
   "source": [
    "root = TreeNode(1, TreeNode(2), TreeNode(3))\n",
    "data = serialize(root)\n",
    "print(\"Serialized:\", data)\n",
    "\n",
    "restored = deserialize(data)\n",
    "print(\"Restored root value:\", restored.val)\n"
   ]
  },
  {
   "cell_type": "code",
   "execution_count": 4,
   "id": "bd41baba-30f2-4145-923b-0ad36c344cc9",
   "metadata": {},
   "outputs": [],
   "source": [
    "from collections import deque\n",
    "\n",
    "def bfs(rGraph, s, t, parent):\n",
    "    visited = [False]*len(rGraph)\n",
    "    queue = deque([s])\n",
    "    visited[s] = True\n",
    "    while queue:\n",
    "        u = queue.popleft()\n",
    "        for v, cap in enumerate(rGraph[u]):\n",
    "            if not visited[v] and cap > 0:\n",
    "                parent[v] = u\n",
    "                queue.append(v)\n",
    "                visited[v] = True\n",
    "    return visited[t]\n",
    "\n",
    "def ford_fulkerson(graph, source, sink):\n",
    "    rGraph = [row[:] for row in graph]\n",
    "    parent = [-1] * len(graph)\n",
    "    max_flow = 0\n",
    "    while bfs(rGraph, source, sink, parent):\n",
    "        path_flow = float(\"inf\")\n",
    "        v = sink\n",
    "        while v != source:\n",
    "            u = parent[v]\n",
    "            path_flow = min(path_flow, rGraph[u][v])\n",
    "            v = u\n",
    "        v = sink\n",
    "        while v != source:\n",
    "            u = parent[v]\n",
    "            rGraph[u][v] -= path_flow\n",
    "            rGraph[v][u] += path_flow\n",
    "            v = u\n",
    "        max_flow += path_flow\n",
    "    return max_flow\n"
   ]
  },
  {
   "cell_type": "code",
   "execution_count": 5,
   "id": "66d04656-6cd8-4c1b-b4bd-bf35d8ce3ec1",
   "metadata": {},
   "outputs": [
    {
     "name": "stdout",
     "output_type": "stream",
     "text": [
      "Maximum Flow: 23\n"
     ]
    }
   ],
   "source": [
    "graph = [\n",
    "    [0, 16, 13, 0, 0, 0],\n",
    "    [0, 0, 10, 12, 0, 0],\n",
    "    [0, 4, 0, 0, 14, 0],\n",
    "    [0, 0, 9, 0, 0, 20],\n",
    "    [0, 0, 0, 7, 0, 4],\n",
    "    [0, 0, 0, 0, 0, 0]\n",
    "]\n",
    "print(\"Maximum Flow:\", ford_fulkerson(graph, 0, 5))\n"
   ]
  },
  {
   "cell_type": "code",
   "execution_count": 6,
   "id": "1bca2203-1061-4c0a-a0b0-e0786b7fcba5",
   "metadata": {},
   "outputs": [],
   "source": [
    "def edit_distance(s1, s2):\n",
    "    m, n = len(s1), len(s2)\n",
    "    dp = [[0]*(n+1) for _ in range(m+1)]\n",
    "    for i in range(m+1):\n",
    "        for j in range(n+1):\n",
    "            if i == 0:\n",
    "                dp[i][j] = j\n",
    "            elif j == 0:\n",
    "                dp[i][j] = i\n",
    "            elif s1[i-1] == s2[j-1]:\n",
    "                dp[i][j] = dp[i-1][j-1]\n",
    "            else:\n",
    "                dp[i][j] = 1 + min(dp[i-1][j], dp[i][j-1], dp[i-1][j-1])\n",
    "    return dp[m][n]\n"
   ]
  },
  {
   "cell_type": "code",
   "execution_count": 7,
   "id": "dc11c567-b032-4b74-bfc9-e5a3c169797d",
   "metadata": {},
   "outputs": [
    {
     "name": "stdout",
     "output_type": "stream",
     "text": [
      "Edit Distance: 3\n"
     ]
    }
   ],
   "source": [
    "print(\"Edit Distance:\", edit_distance(\"kitten\", \"sitting\"))\n"
   ]
  },
  {
   "cell_type": "code",
   "execution_count": 8,
   "id": "9abbe0bb-2573-4c2c-aa5d-0e173b27df6c",
   "metadata": {},
   "outputs": [],
   "source": [
    "class TreeNode:\n",
    "    def __init__(self, val):\n",
    "        self.val = val\n",
    "        self.left = None\n",
    "        self.right = None\n",
    "\n",
    "def kth_smallest(root, k):\n",
    "    def inorder(node):\n",
    "        return inorder(node.left) + [node.val] + inorder(node.right) if node else []\n",
    "    return inorder(root)[k-1]\n",
    "\n",
    "\n"
   ]
  },
  {
   "cell_type": "code",
   "execution_count": 9,
   "id": "c18c5995-3067-42fd-9e87-c7bd4756c867",
   "metadata": {},
   "outputs": [
    {
     "name": "stdout",
     "output_type": "stream",
     "text": [
      "K-th smallest element: 4\n"
     ]
    }
   ],
   "source": [
    "root = TreeNode(5)\n",
    "root.left = TreeNode(3)\n",
    "root.right = TreeNode(6)\n",
    "root.left.left = TreeNode(2)\n",
    "root.left.right = TreeNode(4)\n",
    "\n",
    "print(\"K-th smallest element:\", kth_smallest(root, 3))\n"
   ]
  },
  {
   "cell_type": "code",
   "execution_count": 10,
   "id": "fb54f696-aa81-4720-9fa1-370f72590b0d",
   "metadata": {},
   "outputs": [],
   "source": [
    "def max_product(nums):\n",
    "    max_prod = min_prod = result = nums[0]\n",
    "    for num in nums[1:]:\n",
    "        temp = max(num, num * max_prod, num * min_prod)\n",
    "        min_prod = min(num, num * max_prod, num * min_prod)\n",
    "        max_prod = temp\n",
    "        result = max(result, max_prod)\n",
    "    return result\n"
   ]
  },
  {
   "cell_type": "code",
   "execution_count": 11,
   "id": "e7e3d756-1419-447b-9670-96481cdac124",
   "metadata": {},
   "outputs": [
    {
     "name": "stdout",
     "output_type": "stream",
     "text": [
      "Max subarray product: 6\n"
     ]
    }
   ],
   "source": [
    "print(\"Max subarray product:\", max_product([2, 3, -2, 4]))\n"
   ]
  },
  {
   "cell_type": "code",
   "execution_count": 12,
   "id": "8359d039-7364-46e0-ad0a-bb664810ebb5",
   "metadata": {},
   "outputs": [],
   "source": [
    "\n",
    "def all_paths(graph, start, end, path=[]):\n",
    "    path = path + [start]\n",
    "    if start == end:\n",
    "        return [path]\n",
    "    if start not in graph:\n",
    "        return []\n",
    "    paths = []\n",
    "    for node in graph[start]:\n",
    "        if node not in path:\n",
    "            new_paths = all_paths(graph, node, end, path)\n",
    "            for p in new_paths:\n",
    "                paths.append(p)\n",
    "    return paths\n"
   ]
  },
  {
   "cell_type": "code",
   "execution_count": 13,
   "id": "fbc8bd9b-9ca6-46fd-868f-0663560dc427",
   "metadata": {},
   "outputs": [
    {
     "name": "stdout",
     "output_type": "stream",
     "text": [
      "All paths from A to D: [['A', 'B', 'C', 'D'], ['A', 'B', 'D'], ['A', 'C', 'D']]\n"
     ]
    }
   ],
   "source": [
    "graph = {\n",
    "    'A': ['B', 'C'],\n",
    "    'B': ['C', 'D'],\n",
    "    'C': ['D'],\n",
    "    'D': []\n",
    "}\n",
    "print(\"All paths from A to D:\", all_paths(graph, 'A', 'D'))\n"
   ]
  },
  {
   "cell_type": "code",
   "execution_count": 14,
   "id": "6c153e11-39c6-4874-a7c0-015c68f7198e",
   "metadata": {},
   "outputs": [],
   "source": [
    "def serialize(data):\n",
    "    if isinstance(data, dict):\n",
    "        return \"{\" + \";\".join(f\"{k}:{serialize(v)}\" for k, v in data.items()) + \"}\"\n",
    "    elif isinstance(data, list):\n",
    "        return \"[\" + \",\".join(serialize(i) for i in data) + \"]\"\n",
    "    else:\n",
    "        return str(data)\n",
    "\n",
    "def deserialize(data):\n",
    "    def parse(s):\n",
    "        if s.startswith(\"{\"):\n",
    "            result = {}\n",
    "            s = s[1:-1]\n",
    "            items = s.split(\";\")\n",
    "            for item in items:\n",
    "                if item:\n",
    "                    k, v = item.split(\":\", 1)\n",
    "                    result[k] = parse(v)\n",
    "            return result\n",
    "        elif s.startswith(\"[\"):\n",
    "            return [parse(i) for i in s[1:-1].split(\",\") if i]\n",
    "        elif s.isdigit():\n",
    "            return int(s)\n",
    "        return s\n",
    "    return parse(data)\n"
   ]
  },
  {
   "cell_type": "code",
   "execution_count": 16,
   "id": "8a6ecbab-79f4-47eb-9d46-d55b5383b5ab",
   "metadata": {},
   "outputs": [
    {
     "name": "stdout",
     "output_type": "stream",
     "text": [
      "Serialized: {name:riya;age:22;skills:[Python,C++]}\n",
      "Deserialized: {'name': 'riya', 'age': 22, 'skills': ['Python', 'C++']}\n"
     ]
    }
   ],
   "source": [
    "original = {\"name\": \"riya\", \"age\": 22, \"skills\": [\"Python\", \"C++\"]}\n",
    "s = serialize(original)\n",
    "print(\"Serialized:\", s)\n",
    "print(\"Deserialized:\", deserialize(s))\n"
   ]
  },
  {
   "cell_type": "code",
   "execution_count": null,
   "id": "084f8599-29c0-4b90-ba0e-0454a46404f2",
   "metadata": {},
   "outputs": [],
   "source": []
  }
 ],
 "metadata": {
  "kernelspec": {
   "display_name": "Python 3 (ipykernel)",
   "language": "python",
   "name": "python3"
  },
  "language_info": {
   "codemirror_mode": {
    "name": "ipython",
    "version": 3
   },
   "file_extension": ".py",
   "mimetype": "text/x-python",
   "name": "python",
   "nbconvert_exporter": "python",
   "pygments_lexer": "ipython3",
   "version": "3.13.3"
  }
 },
 "nbformat": 4,
 "nbformat_minor": 5
}
