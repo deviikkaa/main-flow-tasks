{
 "cells": [
  {
   "cell_type": "code",
   "execution_count": 1,
   "id": "89435244-b869-49f0-9177-6080bc62fbb8",
   "metadata": {},
   "outputs": [
    {
     "name": "stdin",
     "output_type": "stream",
     "text": [
      "Enter your text:  main flow technologies \n"
     ]
    },
    {
     "name": "stdout",
     "output_type": "stream",
     "text": [
      "{'main': 1, 'flow': 1, 'technologies': 1}\n"
     ]
    }
   ],
   "source": [
    "def word_frequency(text):\n",
    "    words = text.lower().split()\n",
    "    freq = {}\n",
    "    for word in words:\n",
    "        freq[word] = freq.get(word, 0) + 1\n",
    "    return freq\n",
    "\n",
    "text = input(\"Enter your text: \")\n",
    "print(word_frequency(text))\n"
   ]
  },
  {
   "cell_type": "code",
   "execution_count": 2,
   "id": "7b7e4a8a-51b5-493e-863b-3b1471f86215",
   "metadata": {},
   "outputs": [
    {
     "name": "stdin",
     "output_type": "stream",
     "text": [
      "Enter weights (space-separated):  2 3 4 5\n",
      "Enter values (space-separated):  4 5 6 7\n",
      "Enter max capacity:  5\n"
     ]
    },
    {
     "name": "stdout",
     "output_type": "stream",
     "text": [
      "Maximum value: 9\n"
     ]
    }
   ],
   "source": [
    "def knapsack(weights, values, capacity):\n",
    "    n = len(values)\n",
    "    dp = [[0]*(capacity+1) for _ in range(n+1)]\n",
    "    for i in range(1, n+1):\n",
    "        for w in range(capacity+1):\n",
    "            if weights[i-1] <= w:\n",
    "                dp[i][w] = max(dp[i-1][w], values[i-1] + dp[i-1][w - weights[i-1]])\n",
    "            else:\n",
    "                dp[i][w] = dp[i-1][w]\n",
    "    return dp[n][capacity]\n",
    "\n",
    "weights = list(map(int, input(\"Enter weights (space-separated): \").split()))\n",
    "values = list(map(int, input(\"Enter values (space-separated): \").split()))\n",
    "capacity = int(input(\"Enter max capacity: \"))\n",
    "\n",
    "print(\"Maximum value:\", knapsack(weights, values, capacity))\n"
   ]
  },
  {
   "cell_type": "code",
   "execution_count": 3,
   "id": "ba53f5dc-07c2-4856-8199-df71cbfc0e90",
   "metadata": {},
   "outputs": [
    {
     "name": "stdin",
     "output_type": "stream",
     "text": [
      "Number of intervals:  4\n",
      "Interval 1:  1 3\n",
      "Interval 2:  4 5\n",
      "Interval 3:  6 7\n",
      "Interval 4:  8 9\n"
     ]
    },
    {
     "name": "stdout",
     "output_type": "stream",
     "text": [
      "Merged intervals: [[1, 3], [4, 5], [6, 7], [8, 9]]\n"
     ]
    }
   ],
   "source": [
    "def merge_intervals(intervals):\n",
    "    intervals.sort()\n",
    "    merged = []\n",
    "    for i in intervals:\n",
    "        if not merged or merged[-1][1] < i[0]:\n",
    "            merged.append(i)\n",
    "        else:\n",
    "            merged[-1][1] = max(merged[-1][1], i[1])\n",
    "    return merged\n",
    "\n",
    "n = int(input(\"Number of intervals: \"))\n",
    "intervals = [list(map(int, input(f\"Interval {i+1}: \").split())) for i in range(n)]\n",
    "\n",
    "print(\"Merged intervals:\", merge_intervals(intervals))\n"
   ]
  },
  {
   "cell_type": "code",
   "execution_count": 4,
   "id": "798139b4-444e-4bed-b1c2-170431fee9b9",
   "metadata": {},
   "outputs": [
    {
     "name": "stdin",
     "output_type": "stream",
     "text": [
      "Enter first sorted list:  1 3\n",
      "Enter second sorted list:  4\n"
     ]
    },
    {
     "name": "stdout",
     "output_type": "stream",
     "text": [
      "Median: 3\n"
     ]
    }
   ],
   "source": [
    "def find_median_sorted_arrays(nums1, nums2):\n",
    "    merged = sorted(nums1 + nums2)\n",
    "    n = len(merged)\n",
    "    if n % 2 == 0:\n",
    "        return (merged[n//2 - 1] + merged[n//2]) / 2\n",
    "    else:\n",
    "        return merged[n//2]\n",
    "\n",
    "nums1 = list(map(int, input(\"Enter first sorted list: \").split()))\n",
    "nums2 = list(map(int, input(\"Enter second sorted list: \").split()))\n",
    "\n",
    "print(\"Median:\", find_median_sorted_arrays(nums1, nums2))\n"
   ]
  },
  {
   "cell_type": "code",
   "execution_count": 5,
   "id": "6acd7352-5100-450f-99ef-f47620824956",
   "metadata": {},
   "outputs": [
    {
     "name": "stdin",
     "output_type": "stream",
     "text": [
      "Enter numbers:  -2 1 -3 4 -1 2 1 -5 4\n"
     ]
    },
    {
     "name": "stdout",
     "output_type": "stream",
     "text": [
      "Max subarray sum: 6\n"
     ]
    }
   ],
   "source": [
    "def max_subarray_sum(nums):\n",
    "    max_sum = current = nums[0]\n",
    "    for num in nums[1:]:\n",
    "        current = max(num, current + num)\n",
    "        max_sum = max(max_sum, current)\n",
    "    return max_sum\n",
    "\n",
    "nums = list(map(int, input(\"Enter numbers: \").split()))\n",
    "print(\"Max subarray sum:\", max_subarray_sum(nums))\n"
   ]
  },
  {
   "cell_type": "code",
   "execution_count": 6,
   "id": "c14b7d6a-bfdc-494e-bd96-439663b704a6",
   "metadata": {},
   "outputs": [
    {
     "name": "stdin",
     "output_type": "stream",
     "text": [
      "Start word:  hit\n",
      "End word:  cog\n",
      "Enter dictionary words (space-separated):  hot dot dog got log\n"
     ]
    },
    {
     "name": "stdout",
     "output_type": "stream",
     "text": [
      "Shortest transformation length: 0\n"
     ]
    }
   ],
   "source": [
    "from collections import deque\n",
    "\n",
    "def word_ladder(begin, end, word_list):\n",
    "    word_set = set(word_list)\n",
    "    if end not in word_set:\n",
    "        return 0\n",
    "    queue = deque([(begin, 1)])\n",
    "    while queue:\n",
    "        word, steps = queue.popleft()\n",
    "        if word == end:\n",
    "            return steps\n",
    "        for i in range(len(word)):\n",
    "            for c in 'abcdefghijklmnopqrstuvwxyz':\n",
    "                new_word = word[:i] + c + word[i+1:]\n",
    "                if new_word in word_set:\n",
    "                    word_set.remove(new_word)\n",
    "                    queue.append((new_word, steps + 1))\n",
    "    return 0\n",
    "\n",
    "begin = input(\"Start word: \")\n",
    "end = input(\"End word: \")\n",
    "word_list = input(\"Enter dictionary words (space-separated): \").split()\n",
    "\n",
    "print(\"Shortest transformation length:\", word_ladder(begin, end, word_list))\n"
   ]
  },
  {
   "cell_type": "code",
   "execution_count": 7,
   "id": "3274a994-8b8c-47b9-8e5e-267ee98ab9a3",
   "metadata": {},
   "outputs": [
    {
     "name": "stdout",
     "output_type": "stream",
     "text": [
      "Enter Sudoku grid row-by-row (9 rows of 9 digits, use 0 for empty):\n"
     ]
    },
    {
     "name": "stdin",
     "output_type": "stream",
     "text": [
      "Row 1:  5 3 0 0 7 0 0 0 0\n",
      "Row 2:  6 0 0 1 9 5 0 0 0 \n",
      "Row 3:  0 9 8 0 0 0 0 6 0 \n",
      "Row 4:  8 0 0 0 6 0 0 0 3  \n",
      "Row 5:  4 0 0 8 0 3 0 0 1  \n",
      "Row 6:  7 0 0 0 2 0 0 0 6  \n",
      "Row 7:  0 6 0 0 0 0 2 8 0  \n",
      "Row 8:  0 0 0 4 1 9 0 0 5  \n",
      "Row 9:  0 0 0 0 8 0 0 7 9\n"
     ]
    },
    {
     "name": "stdout",
     "output_type": "stream",
     "text": [
      "The Sudoku board is valid.\n"
     ]
    }
   ],
   "source": [
    "def is_valid_sudoku(board):\n",
    "    for i in range(9):\n",
    "        row, col, box = set(), set(), set()\n",
    "        for j in range(9):\n",
    "            if board[i][j] != 0:\n",
    "                if board[i][j] in row:\n",
    "                    return False\n",
    "                row.add(board[i][j])\n",
    "            if board[j][i] != 0:\n",
    "                if board[j][i] in col:\n",
    "                    return False\n",
    "                col.add(board[j][i])\n",
    "            r, c = 3 * (i // 3) + j // 3, 3 * (i % 3) + j % 3\n",
    "            if board[r][c] != 0:\n",
    "                if board[r][c] in box:\n",
    "                    return False\n",
    "                box.add(board[r][c])\n",
    "    return True\n",
    "\n",
    "\n",
    "print(\"Enter Sudoku grid row-by-row (9 rows of 9 digits, use 0 for empty):\")\n",
    "board = [list(map(int, input(f\"Row {i+1}: \").split())) for i in range(9)]\n",
    "\n",
    "\n",
    "if is_valid_sudoku(board):\n",
    "    print(\"The Sudoku board is valid.\")\n",
    "else:\n",
    "    print(\"The Sudoku board is INVALID.\")\n"
   ]
  },
  {
   "cell_type": "code",
   "execution_count": 10,
   "id": "fcdfec40-f534-44e6-ae76-03fcd61631f3",
   "metadata": {},
   "outputs": [
    {
     "name": "stdin",
     "output_type": "stream",
     "text": [
      "Enter number of rows:  4\n"
     ]
    },
    {
     "name": "stdout",
     "output_type": "stream",
     "text": [
      "Enter each row with 0s and 1s separated by spaces:\n"
     ]
    },
    {
     "name": "stdin",
     "output_type": "stream",
     "text": [
      "Row 1:  1 0 1 0 0 \n",
      "Row 2:  1 0 1 1 1  \n",
      "Row 3:  1 1 1 1 1 \n",
      "Row 4:  1 0 0 1 0\n"
     ]
    },
    {
     "name": "stdout",
     "output_type": "stream",
     "text": [
      "Maximal rectangle area: 6\n"
     ]
    }
   ],
   "source": [
    "def maximal_rectangle(matrix):\n",
    "    def largest_histogram(heights):\n",
    "        stack = []\n",
    "        max_area = 0\n",
    "        extended = heights + [0]  # Flush the stack\n",
    "        for i, h in enumerate(extended):\n",
    "            while stack and extended[stack[-1]] > h:\n",
    "                height = extended[stack.pop()]\n",
    "                width = i if not stack else i - stack[-1] - 1\n",
    "                max_area = max(max_area, height * width)\n",
    "            stack.append(i)\n",
    "        return max_area\n",
    "\n",
    "    if not matrix or not matrix[0]:\n",
    "        return 0\n",
    "\n",
    "    max_area = 0\n",
    "    dp = [0] * len(matrix[0])\n",
    "    for row in matrix:\n",
    "        for i in range(len(row)):\n",
    "            dp[i] = dp[i] + 1 if row[i] == 1 else 0\n",
    "        max_area = max(max_area, largest_histogram(dp))\n",
    "    return max_area\n",
    "\n",
    "# ✅ INPUT SECTION\n",
    "try:\n",
    "    rows = int(input(\"Enter number of rows: \"))\n",
    "    print(\"Enter each row with 0s and 1s separated by spaces:\")\n",
    "    matrix = []\n",
    "    for i in range(rows):\n",
    "        row = list(map(int, input(f\"Row {i+1}: \").split()))\n",
    "        matrix.append(row)\n",
    "\n",
    "    print(\"Maximal rectangle area:\", maximal_rectangle(matrix))\n",
    "\n",
    "except ValueError:\n",
    "    print(\"Invalid input! Please enter integers only.\")\n",
    "except Exception as e:\n",
    "    print(\"Error:\", e)\n",
    "\n"
   ]
  },
  {
   "cell_type": "code",
   "execution_count": null,
   "id": "7bf43671-d7d6-4380-be60-62f961b92d75",
   "metadata": {},
   "outputs": [],
   "source": []
  }
 ],
 "metadata": {
  "kernelspec": {
   "display_name": "Python 3 (ipykernel)",
   "language": "python",
   "name": "python3"
  },
  "language_info": {
   "codemirror_mode": {
    "name": "ipython",
    "version": 3
   },
   "file_extension": ".py",
   "mimetype": "text/x-python",
   "name": "python",
   "nbconvert_exporter": "python",
   "pygments_lexer": "ipython3",
   "version": "3.13.3"
  }
 },
 "nbformat": 4,
 "nbformat_minor": 5
}
