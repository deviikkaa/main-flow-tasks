{
 "cells": [
  {
   "cell_type": "code",
   "execution_count": 1,
   "id": "ee72f3ad-94a5-4551-a842-f5faf8f95c8a",
   "metadata": {},
   "outputs": [
    {
     "name": "stdout",
     "output_type": "stream",
     "text": [
      "3\n"
     ]
    }
   ],
   "source": [
    "def find_missing_number(arr):\n",
    "    n = len(arr)\n",
    "    total = (n + 1) * (n + 2) // \n",
    "    return total - sum(arr)\n",
    "\n",
    "\n",
    "print(find_missing_number([1, 2, 4]))  "
   ]
  },
  {
   "cell_type": "code",
   "execution_count": 2,
   "id": "20087001-cf57-4934-b1c7-e6abc360891c",
   "metadata": {},
   "outputs": [
    {
     "name": "stdout",
     "output_type": "stream",
     "text": [
      "True\n"
     ]
    }
   ],
   "source": [
    "def is_balanced(s):\n",
    "    stack = []\n",
    "    mapping = {')': '(', '}': '{', ']': '['}\n",
    "    for char in s:\n",
    "        if char in mapping.values():\n",
    "            stack.append(char)\n",
    "        elif char in mapping.keys():\n",
    "            if not stack or stack.pop() != mapping[char]:\n",
    "                return False\n",
    "    return not stack\n",
    "\n",
    "\n",
    "print(is_balanced(\"([{}])\"))  "
   ]
  },
  {
   "cell_type": "code",
   "execution_count": 3,
   "id": "a71a83a0-40ca-4f5a-9f07-7f267c9daada",
   "metadata": {},
   "outputs": [
    {
     "name": "stdout",
     "output_type": "stream",
     "text": [
      "Python\n"
     ]
    }
   ],
   "source": [
    "def longest_word(sentence):\n",
    "    words = sentence.split()\n",
    "    return max(words, key=len) if words else \"\"\n",
    "\n",
    "\n",
    "print(longest_word(\"Hello world Python\"))  "
   ]
  },
  {
   "cell_type": "code",
   "execution_count": 4,
   "id": "22b67b1d-c9d7-49f3-95a1-95c567800949",
   "metadata": {},
   "outputs": [
    {
     "name": "stdout",
     "output_type": "stream",
     "text": [
      "5\n"
     ]
    }
   ],
   "source": [
    "def count_words(sentence):\n",
    "    return len(sentence.split())\n",
    "\n",
    "\n",
    "print(count_words(\"This is a test sentence.\"))  "
   ]
  },
  {
   "cell_type": "code",
   "execution_count": 5,
   "id": "9d7057f7-cc6f-4897-bde2-65364db70de7",
   "metadata": {},
   "outputs": [
    {
     "name": "stdout",
     "output_type": "stream",
     "text": [
      "True\n"
     ]
    }
   ],
   "source": [
    "def is_pythagorean_triplet(a, b, c):\n",
    "    max_num = max(a, b, c)\n",
    "    if max_num == a:\n",
    "        return a**2 == b**2 + c**2\n",
    "    elif max_num == b:\n",
    "        return b**2 == a**2 + c**2\n",
    "    else:\n",
    "        return c**2 == a**2 + b**2\n",
    "\n",
    "\n",
    "print(is_pythagorean_triplet(3, 4, 5))  "
   ]
  },
  {
   "cell_type": "code",
   "execution_count": 6,
   "id": "f43cf87b-ae4d-4a10-886b-a56fa99d6168",
   "metadata": {},
   "outputs": [
    {
     "name": "stdout",
     "output_type": "stream",
     "text": [
      "[1, 3, 5, 8]\n"
     ]
    }
   ],
   "source": [
    "def bubble_sort(arr):\n",
    "    n = len(arr)\n",
    "    for i in range(n):\n",
    "        swapped = False\n",
    "        for j in range(n - i - 1):\n",
    "            if arr[j] > arr[j + 1]:\n",
    "                arr[j], arr[j + 1] = arr[j + 1], arr[j]\n",
    "                swapped = True\n",
    "        if not swapped:\n",
    "            break\n",
    "    return arr\n",
    "print(bubble_sort([5, 3, 8, 1]))  "
   ]
  },
  {
   "cell_type": "code",
   "execution_count": 7,
   "id": "39f2db91-7ef0-43aa-8d7e-13eca47f4399",
   "metadata": {},
   "outputs": [
    {
     "name": "stdout",
     "output_type": "stream",
     "text": [
      "3\n"
     ]
    }
   ],
   "source": [
    "def binary_search(arr, target):\n",
    "    low, high = 0, len(arr) - 1\n",
    "    while low <= high:\n",
    "        mid = (low + high) // 2\n",
    "        if arr[mid] == target:\n",
    "            return mid\n",
    "        elif arr[mid] < target:\n",
    "            low = mid + 1\n",
    "        else:\n",
    "            high = mid - 1\n",
    "    return -1\n",
    "print(binary_search([1, 3, 5, 7, 9], 7))  "
   ]
  },
  {
   "cell_type": "code",
   "execution_count": 8,
   "id": "844edb76-4df7-4137-a0cc-553c541991c3",
   "metadata": {},
   "outputs": [
    {
     "name": "stdout",
     "output_type": "stream",
     "text": [
      "(1, 3)\n"
     ]
    }
   ],
   "source": [
    "def find_subarray_with_sum(arr, s):\n",
    "    start = 0\n",
    "    current_sum = 0\n",
    "    for end in range(len(arr)):\n",
    "        current_sum += arr[end]\n",
    "        while current_sum > s and start <= end:\n",
    "            current_sum -= arr[start]\n",
    "            start += 1\n",
    "        if current_sum == s:\n",
    "            return (start, end)\n",
    "    return -1\n",
    "print(find_subarray_with_sum([1, 2, 3, 4, 5], 9))  "
   ]
  },
  {
   "cell_type": "code",
   "execution_count": 10,
   "id": "e591b096-f9b7-43f5-aa25-055f2fea2c55",
   "metadata": {},
   "outputs": [
    {
     "name": "stdout",
     "output_type": "stream",
     "text": [
      "Most frequent IP: ('192.168.1.1', 3)\n",
      "Most common status: (' 200', 4)\n",
      "Most visited URL: ('/home', 3)\n"
     ]
    }
   ],
   "source": [
    "from collections import defaultdict\n",
    "import re\n",
    "\n",
    "log_lines = [\n",
    "    '192.168.1.1 - - [10/Oct/2023:13:55:36 +0000] \"GET /home HTTP/1.1\" 200 1234',\n",
    "    '192.168.1.2 - - [10/Oct/2023:13:55:40 +0000] \"GET /about HTTP/1.1\" 404 5678',\n",
    "    '192.168.1.1 - - [10/Oct/2023:13:55:45 +0000] \"GET /contact HTTP/1.1\" 200 9101',\n",
    "    '192.168.1.3 - - [10/Oct/2023:13:55:50 +0000] \"GET /home HTTP/1.1\" 200 1122',\n",
    "    '192.168.1.1 - - [10/Oct/2023:13:55:55 +0000] \"GET /home HTTP/1.1\" 200 3344'\n",
    "]\n",
    "\n",
    "ip_counts = defaultdict(int)\n",
    "status_counts = defaultdict(int)\n",
    "url_counts = defaultdict(int)\n",
    "\n",
    "for line in log_lines:\n",
    "    ip = re.match(r'^(\\S+)', line).group(1)  \n",
    "    status = re.search(r'\" \\d{3} ', line).group().strip()[1:]  \n",
    "    url = re.search(r'\"(GET|POST) (.+?) HTTP', line).group(2)  \n",
    "    \n",
    "    ip_counts[ip] += 1\n",
    "    status_counts[status] += 1\n",
    "    url_counts[url] += 1\n",
    "\n",
    "print(\"Most frequent IP:\", max(ip_counts.items(), key=lambda x: x[1]))\n",
    "print(\"Most common status:\", max(status_counts.items(), key=lambda x: x[1]))\n",
    "print(\"Most visited URL:\", max(url_counts.items(), key=lambda x: x[1]))"
   ]
  },
  {
   "cell_type": "code",
   "execution_count": null,
   "id": "bd0c63f6-e75f-41e5-ae38-be54acd13958",
   "metadata": {},
   "outputs": [],
   "source": []
  }
 ],
 "metadata": {
  "kernelspec": {
   "display_name": "Python 3 (ipykernel)",
   "language": "python",
   "name": "python3"
  },
  "language_info": {
   "codemirror_mode": {
    "name": "ipython",
    "version": 3
   },
   "file_extension": ".py",
   "mimetype": "text/x-python",
   "name": "python",
   "nbconvert_exporter": "python",
   "pygments_lexer": "ipython3",
   "version": "3.13.3"
  }
 },
 "nbformat": 4,
 "nbformat_minor": 5
}
