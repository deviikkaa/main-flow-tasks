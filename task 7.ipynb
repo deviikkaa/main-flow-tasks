{
 "cells": [
  {
   "cell_type": "code",
   "execution_count": 2,
   "id": "24cb2a91-8f63-4521-bc23-35bf8f5d87c0",
   "metadata": {},
   "outputs": [
    {
     "name": "stdin",
     "output_type": "stream",
     "text": [
      "Enter list of integers:  2 4 1 3 5\n"
     ]
    },
    {
     "name": "stdout",
     "output_type": "stream",
     "text": [
      "Inversion count: 3\n"
     ]
    }
   ],
   "source": [
    "def merge_sort_count(arr):\n",
    "    def merge_sort(arr):\n",
    "        if len(arr) < 2:\n",
    "            return arr, 0\n",
    "        mid = len(arr) // 2\n",
    "        left, inv_l = merge_sort(arr[:mid])\n",
    "        right, inv_r = merge_sort(arr[mid:])\n",
    "        merged, inv_m = merge(left, right)\n",
    "        return merged, inv_l + inv_r + inv_m\n",
    "\n",
    "    def merge(left, right):\n",
    "        i = j = inv = 0\n",
    "        merged = []\n",
    "        while i < len(left) and j < len(right):\n",
    "            if left[i] <= right[j]:\n",
    "                merged.append(left[i])\n",
    "                i += 1\n",
    "            else:\n",
    "                merged.append(right[j])\n",
    "                inv += len(left) - i\n",
    "                j += 1\n",
    "        merged += left[i:] + right[j:]\n",
    "        return merged, inv\n",
    "\n",
    "    return merge_sort(arr)[1]\n",
    "\n",
    "# Input\n",
    "arr = list(map(int, input(\"Enter list of integers: \").split()))\n",
    "print(\"Inversion count:\", merge_sort_count(arr))\n"
   ]
  },
  {
   "cell_type": "code",
   "execution_count": 3,
   "id": "eb127b97-4854-4387-bcfb-b0f64aa26614",
   "metadata": {},
   "outputs": [
    {
     "name": "stdin",
     "output_type": "stream",
     "text": [
      "Enter string:  banana\n"
     ]
    },
    {
     "name": "stdout",
     "output_type": "stream",
     "text": [
      "Longest palindromic substring: anana\n"
     ]
    }
   ],
   "source": [
    "def longest_palindrome(s):\n",
    "    if len(s) < 2:\n",
    "        return s\n",
    "    start = 0\n",
    "    max_len = 1\n",
    "    for i in range(len(s)):\n",
    "        for j in range(i+1, len(s)+1):\n",
    "            sub = s[i:j]\n",
    "            if sub == sub[::-1] and len(sub) > max_len:\n",
    "                start = i\n",
    "                max_len = j - i\n",
    "    return s[start:start+max_len]\n",
    "\n",
    "s = input(\"Enter string: \")\n",
    "print(\"Longest palindromic substring:\", longest_palindrome(s))\n",
    "\n"
   ]
  },
  {
   "cell_type": "code",
   "execution_count": 4,
   "id": "fcee0cdd-696a-4d2e-a586-aeb0d60e18b5",
   "metadata": {},
   "outputs": [
    {
     "name": "stdin",
     "output_type": "stream",
     "text": [
      "Enter number of cities:  4\n",
      "Enter city names:  A B C D\n"
     ]
    },
    {
     "name": "stdout",
     "output_type": "stream",
     "text": [
      "Enter distance matrix row by row:\n"
     ]
    },
    {
     "name": "stdin",
     "output_type": "stream",
     "text": [
      " 0 10 15 20   10 0 35 25   15 35 0 30   20 25 30 0\n",
      " 10 0 35 25\n",
      " 15 35 0 30\n",
      " 20 25 30 0\n"
     ]
    },
    {
     "name": "stdout",
     "output_type": "stream",
     "text": [
      "Shortest route: A -> B -> D -> C -> A\n",
      "Total cost: 80\n"
     ]
    }
   ],
   "source": [
    "from itertools import permutations\n",
    "\n",
    "def tsp(cities, dist):\n",
    "    min_path = float('inf')\n",
    "    best_route = []\n",
    "    for perm in permutations(range(len(cities))):\n",
    "        cost = sum(dist[perm[i]][perm[i+1]] for i in range(len(cities)-1)) + dist[perm[-1]][perm[0]]\n",
    "        if cost < min_path:\n",
    "            min_path = cost\n",
    "            best_route = perm\n",
    "    route_names = [cities[i] for i in best_route] + [cities[best_route[0]]]\n",
    "    return route_names, min_path\n",
    "\n",
    "n = int(input(\"Enter number of cities: \"))\n",
    "cities = input(\"Enter city names: \").split()\n",
    "print(\"Enter distance matrix row by row:\")\n",
    "dist = [list(map(int, input().split())) for _ in range(n)]\n",
    "\n",
    "route, cost = tsp(cities, dist)\n",
    "print(\"Shortest route:\", ' -> '.join(route))\n",
    "print(\"Total cost:\", cost)\n"
   ]
  },
  {
   "cell_type": "code",
   "execution_count": 5,
   "id": "f1177758-ee25-44ea-96a4-a4002e9d8bcb",
   "metadata": {},
   "outputs": [
    {
     "name": "stdin",
     "output_type": "stream",
     "text": [
      "Number of nodes:  4\n"
     ]
    },
    {
     "name": "stdout",
     "output_type": "stream",
     "text": [
      "Enter edges (e.g. A B means edge between A and B):\n"
     ]
    },
    {
     "name": "stdin",
     "output_type": "stream",
     "text": [
      "Number of edges:  4\n",
      " A B\n",
      " B C\n",
      " C D\n",
      " D A\n"
     ]
    },
    {
     "name": "stdout",
     "output_type": "stream",
     "text": [
      "Cycle Detected:\n"
     ]
    }
   ],
   "source": [
    "def has_cycle(graph):\n",
    "    visited = set()\n",
    "\n",
    "    def dfs(v, parent):\n",
    "        visited.add(v)\n",
    "        for neighbor in graph[v]:\n",
    "            if neighbor not in visited:\n",
    "                if dfs(neighbor, v):\n",
    "                    return True\n",
    "            elif neighbor != parent:\n",
    "                return True\n",
    "        return False\n",
    "\n",
    "    for node in graph:\n",
    "        if node not in visited:\n",
    "            if dfs(node, None):\n",
    "                return True\n",
    "    return False\n",
    "\n",
    "# Input\n",
    "n = int(input(\"Number of nodes: \"))\n",
    "graph = {}\n",
    "print(\"Enter edges (e.g. A B means edge between A and B):\")\n",
    "for _ in range(int(input(\"Number of edges: \"))):\n",
    "    u, v = input().split()\n",
    "    graph.setdefault(u, []).append(v)\n",
    "    graph.setdefault(v, []).append(u)\n",
    "\n",
    "print(\"Cycle Detected:\" if has_cycle(graph) else \"No Cycle Found\")\n"
   ]
  },
  {
   "cell_type": "code",
   "execution_count": 6,
   "id": "d8c1fbf8-1d62-4191-8cee-112918451050",
   "metadata": {},
   "outputs": [
    {
     "name": "stdin",
     "output_type": "stream",
     "text": [
      "Enter string:  abcabcbb\n"
     ]
    },
    {
     "name": "stdout",
     "output_type": "stream",
     "text": [
      "Length of longest substring without repeating characters: 3\n"
     ]
    }
   ],
   "source": [
    "def length_of_longest_substring(s):\n",
    "    seen = {}\n",
    "    left = max_len = 0\n",
    "    for right, char in enumerate(s):\n",
    "        if char in seen and seen[char] >= left:\n",
    "            left = seen[char] + 1\n",
    "        seen[char] = right\n",
    "        max_len = max(max_len, right - left + 1)\n",
    "    return max_len\n",
    "\n",
    "s = input(\"Enter string: \")\n",
    "print(\"Length of longest substring without repeating characters:\", length_of_longest_substring(s))\n"
   ]
  },
  {
   "cell_type": "code",
   "execution_count": 7,
   "id": "9dc3bb83-794d-4f86-bf81-16c61b389f09",
   "metadata": {},
   "outputs": [
    {
     "name": "stdin",
     "output_type": "stream",
     "text": [
      "Enter number of pairs:  3\n"
     ]
    },
    {
     "name": "stdout",
     "output_type": "stream",
     "text": [
      "Valid combinations:\n",
      "['((()))', '(()())', '(())()', '()(())', '()()()']\n"
     ]
    }
   ],
   "source": [
    "def generate_parentheses(n):\n",
    "    result = []\n",
    "\n",
    "    def backtrack(s='', left=0, right=0):\n",
    "        if len(s) == 2 * n:\n",
    "            result.append(s)\n",
    "            return\n",
    "        if left < n:\n",
    "            backtrack(s + '(', left + 1, right)\n",
    "        if right < left:\n",
    "            backtrack(s + ')', left, right + 1)\n",
    "\n",
    "    backtrack()\n",
    "    return result\n",
    "\n",
    "n = int(input(\"Enter number of pairs: \"))\n",
    "print(\"Valid combinations:\")\n",
    "print(generate_parentheses(n))\n"
   ]
  },
  {
   "cell_type": "code",
   "execution_count": 8,
   "id": "f966ec73-9b86-4b70-a26f-092c6d442e63",
   "metadata": {},
   "outputs": [
    {
     "name": "stdin",
     "output_type": "stream",
     "text": [
      "Enter tree node values level-by-level (-1 for None):  3 9 20 -1 -1 15 7\n"
     ]
    },
    {
     "name": "stdout",
     "output_type": "stream",
     "text": [
      "Zigzag Traversal: [[3], [20, 9], [15, 7]]\n"
     ]
    }
   ],
   "source": [
    "from collections import deque\n",
    "\n",
    "class TreeNode:\n",
    "    def __init__(self, val):\n",
    "        self.val = val\n",
    "        self.left = self.right = None\n",
    "\n",
    "def build_tree(values):\n",
    "    if not values:\n",
    "        return None\n",
    "    nodes = [TreeNode(val) if val != -1 else None for val in values]\n",
    "    i = 0\n",
    "    for j in range(1, len(nodes), 2):\n",
    "        if nodes[i]:\n",
    "            nodes[i].left = nodes[j]\n",
    "            if j+1 < len(nodes):\n",
    "                nodes[i].right = nodes[j+1]\n",
    "        i += 1\n",
    "    return nodes[0]\n",
    "\n",
    "def zigzag_level_order(root):\n",
    "    if not root:\n",
    "        return []\n",
    "    result, queue, left_to_right = [], deque([root]), True\n",
    "    while queue:\n",
    "        level = deque()\n",
    "        for _ in range(len(queue)):\n",
    "            node = queue.popleft()\n",
    "            if left_to_right:\n",
    "                level.append(node.val)\n",
    "            else:\n",
    "                level.appendleft(node.val)\n",
    "            if node.left: queue.append(node.left)\n",
    "            if node.right: queue.append(node.right)\n",
    "        result.append(list(level))\n",
    "        left_to_right = not left_to_right\n",
    "    return result\n",
    "\n",
    "values = list(map(int, input(\"Enter tree node values level-by-level (-1 for None): \").split()))\n",
    "root = build_tree(values)\n",
    "print(\"Zigzag Traversal:\", zigzag_level_order(root))\n"
   ]
  },
  {
   "cell_type": "code",
   "execution_count": 9,
   "id": "4729667d-043d-4e45-8e6f-9f3dfb0c4566",
   "metadata": {},
   "outputs": [
    {
     "name": "stdin",
     "output_type": "stream",
     "text": [
      "Enter string:  aab\n"
     ]
    },
    {
     "name": "stdout",
     "output_type": "stream",
     "text": [
      "All palindrome partitions:\n",
      "['a', 'a', 'b']\n",
      "['aa', 'b']\n"
     ]
    }
   ],
   "source": [
    "def is_palindrome(s): return s == s[::-1]\n",
    "\n",
    "def partition(s):\n",
    "    result = []\n",
    "    def backtrack(start, path):\n",
    "        if start == len(s):\n",
    "            result.append(path[:])\n",
    "            return\n",
    "        for end in range(start+1, len(s)+1):\n",
    "            if is_palindrome(s[start:end]):\n",
    "                backtrack(end, path + [s[start:end]])\n",
    "    backtrack(0, [])\n",
    "    return result\n",
    "\n",
    "s = input(\"Enter string: \")\n",
    "print(\"All palindrome partitions:\")\n",
    "for p in partition(s):\n",
    "    print(p)\n"
   ]
  },
  {
   "cell_type": "code",
   "execution_count": null,
   "id": "b0e57cdd-7c66-419e-af79-4b6a7ced85b3",
   "metadata": {},
   "outputs": [],
   "source": []
  }
 ],
 "metadata": {
  "kernelspec": {
   "display_name": "Python 3 (ipykernel)",
   "language": "python",
   "name": "python3"
  },
  "language_info": {
   "codemirror_mode": {
    "name": "ipython",
    "version": 3
   },
   "file_extension": ".py",
   "mimetype": "text/x-python",
   "name": "python",
   "nbconvert_exporter": "python",
   "pygments_lexer": "ipython3",
   "version": "3.13.3"
  }
 },
 "nbformat": 4,
 "nbformat_minor": 5
}
